{
  "nbformat": 4,
  "nbformat_minor": 0,
  "metadata": {
    "colab": {
      "name": "WarutNet Weather Conv Neural Net.ipynb",
      "provenance": [],
      "collapsed_sections": [],
      "include_colab_link": true
    },
    "kernelspec": {
      "name": "python3",
      "display_name": "Python 3"
    },
    "language_info": {
      "name": "python"
    },
    "accelerator": "GPU"
  },
  "cells": [
    {
      "cell_type": "markdown",
      "metadata": {
        "id": "view-in-github",
        "colab_type": "text"
      },
      "source": [
        "<a href=\"https://colab.research.google.com/github/carlosfg97/WeatherCNN_WarutNet/blob/main/WarutNet_Weather_Conv_Neural_Net.ipynb\" target=\"_parent\"><img src=\"https://colab.research.google.com/assets/colab-badge.svg\" alt=\"Open In Colab\"/></a>"
      ]
    },
    {
      "cell_type": "markdown",
      "metadata": {
        "id": "9_DyQYXTZuDx"
      },
      "source": [
        "# **CONV. NEURAL NET ( 2d convolutions example )**\n",
        "\n",
        "## *Warut-Net* , 2021 \n",
        "\n",
        "[For a video walkthrough go here](https://youtu.be/Vy6Gxttl-f8)"
      ]
    },
    {
      "cell_type": "markdown",
      "metadata": {
        "id": "Bsb_AYVjpfE5"
      },
      "source": [
        "## Connections and Imports"
      ]
    },
    {
      "cell_type": "code",
      "metadata": {
        "colab": {
          "base_uri": "https://localhost:8080/"
        },
        "id": "GU7LSIRiZvGx",
        "outputId": "32d39082-6f42-4a06-fd89-2ded0164c92b"
      },
      "source": [
        "# Connection to Google Drive to retrieve Files\n",
        "from google.colab import drive\n",
        "drive.mount('/content/gdrive')\n",
        "fname =  '/content/gdrive/My Drive/WarutNet/weatherHistory_shortv.csv'"
      ],
      "execution_count": null,
      "outputs": [
        {
          "output_type": "stream",
          "name": "stdout",
          "text": [
            "Mounted at /content/gdrive\n"
          ]
        }
      ]
    },
    {
      "cell_type": "code",
      "metadata": {
        "id": "BX9oyyDnQHHR"
      },
      "source": [
        "import pandas as pd\n",
        "import random\n",
        "import numpy as np\n",
        "from datetime import timedelta\n",
        "\n",
        "pd.set_option('display.max_rows', 100)"
      ],
      "execution_count": null,
      "outputs": []
    },
    {
      "cell_type": "markdown",
      "metadata": {
        "id": "jyT7Rq02a8b_"
      },
      "source": [
        "## Data Preprocessing"
      ]
    },
    {
      "cell_type": "code",
      "metadata": {
        "id": "s5NO9RQFQJoF",
        "colab": {
          "base_uri": "https://localhost:8080/"
        },
        "outputId": "288487b2-dc05-43dd-e042-12793796a38e"
      },
      "source": [
        "# read dataset\n",
        "df = pd.read_csv(fname, parse_dates=True, infer_datetime_format = True)\n",
        "\n",
        "print(f'Dataset has {df.shape[0]} rows and  {df.shape[1]} columns. ')"
      ],
      "execution_count": null,
      "outputs": [
        {
          "output_type": "stream",
          "name": "stdout",
          "text": [
            "Dataset has 41815 rows and  12 columns. \n"
          ]
        }
      ]
    },
    {
      "cell_type": "code",
      "metadata": {
        "id": "eV2iFZM0QLq1"
      },
      "source": [
        "# datetime columns formatting and some range calibrations\n",
        "df['Pressure'] = df['Pressure (millibars)']/100 # make numbers smaller\n",
        "df['DATETIME'] = pd.to_datetime(df['Formatted Date'].apply(lambda x: x[:-10]))\n",
        "df['DATE'] = df.DATETIME.dt.date\n",
        "df['HOUR'] = df.DATETIME.dt.hour\n",
        "df = df.drop(columns = ['Pressure (millibars)', 'Formatted Date'])\n",
        "\n",
        "df = df.rename(columns = {'Precip Type': 'Ptype', 'Daily Summary':'SUMMARY'})\n",
        "df1 = pd.get_dummies(df , columns = ['Summary','Ptype'])\n"
      ],
      "execution_count": null,
      "outputs": []
    },
    {
      "cell_type": "code",
      "metadata": {
        "id": "KEAe_oKUIPs9",
        "colab": {
          "base_uri": "https://localhost:8080/"
        },
        "outputId": "59e5623a-29c0-4159-bf40-77ff95120364"
      },
      "source": [
        "#df_summaries = df[df.HOUR == 1].SUMMARY.value_counts()\n",
        "#df_summaries.to_csv('/content/gdrive/My Drive/insy 662 project 2/Code/summaries____.csv')\n",
        "\n",
        "# we are going to use a remapping of weather summaries to have less classes to predict (generalizing)\n",
        "df_map = pd.read_csv('/content/gdrive/My Drive/WarutNet/summaries.csv', sep=';')\n",
        "print(df_map['New Summary'].drop_duplicates().to_list())\n",
        "\n",
        "# Old summary (~160 labels ) ---> New Summary (6 labels)\n",
        "df2 = df1.merge(df_map[['Old Summary ', 'New Summary']], left_on='SUMMARY', right_on='Old Summary ')\n",
        "df2 = df2.drop( labels = ['Old Summary ', 'SUMMARY'], axis=1 ,  errors='ignore')\n",
        "df2 = df2.rename( {'New Summary': 'SUMMARY'},   axis=1     )\n"
      ],
      "execution_count": null,
      "outputs": [
        {
          "output_type": "stream",
          "name": "stdout",
          "text": [
            "['Breezy', 'Clear', 'Foggy', 'Mostly Cloudy', 'Overcast', 'Partly Cloudy']\n"
          ]
        }
      ]
    },
    {
      "cell_type": "code",
      "metadata": {
        "id": "46PkkAx0wcc9"
      },
      "source": [
        "df1 = df2.copy()\n",
        "df1['MONTH'] = df.DATETIME.dt.month\n",
        "\n",
        "# we create a season column. Not exact formula but simple to implement\n",
        "df1['SEASON'] = df1.DATETIME.dt.month%12 // 3 + 1"
      ],
      "execution_count": null,
      "outputs": []
    },
    {
      "cell_type": "code",
      "metadata": {
        "id": "WtY8ZZmDxOWU"
      },
      "source": [
        "feats = ['Temperature (C)', 'Apparent Temperature (C)', 'Humidity',\n",
        "       'Wind Speed (km/h)', 'Wind Bearing (degrees)', 'Visibility (km)',\n",
        "       'Loud Cover', 'Pressure','MONTH', 'SEASON','Summary_Breezy',\n",
        "       'Summary_Breezy and Foggy', 'Summary_Breezy and Mostly Cloudy',\n",
        "       'Summary_Breezy and Overcast', 'Summary_Breezy and Partly Cloudy',\n",
        "       'Summary_Clear', 'Summary_Dangerously Windy and Partly Cloudy',\n",
        "       'Summary_Dry', 'Summary_Dry and Partly Cloudy', 'Summary_Foggy',\n",
        "       'Summary_Humid and Mostly Cloudy', 'Summary_Humid and Overcast',\n",
        "       'Summary_Humid and Partly Cloudy', 'Summary_Mostly Cloudy',\n",
        "       'Summary_Overcast', 'Summary_Partly Cloudy', 'Summary_Windy',\n",
        "       'Summary_Windy and Foggy', 'Summary_Windy and Mostly Cloudy',\n",
        "       'Summary_Windy and Overcast', 'Summary_Windy and Partly Cloudy',\n",
        "       'Ptype_rain', 'Ptype_snow']\n",
        "\n",
        "Y_VAR = ['SUMMARY']"
      ],
      "execution_count": null,
      "outputs": []
    },
    {
      "cell_type": "markdown",
      "metadata": {
        "id": "jE4sa-ftcHxg"
      },
      "source": [
        "### Iterating through dataset and pivoting each panel data point\n",
        "\n",
        "The next loop is **crucial** for the program. We iterate through all the\n",
        "existing dates and filters the dataset for only that date (so we are going \n",
        "to have mini datasets of 24 rows (1 weather report per hour). We have to \n",
        "\"transform\" the dataset so we can keep the hours as rows and the weather\n",
        "information as columns. We use pandas's pivot_table to efficiently achieve this. By the end of the loop, we will have an X vector composed of matrices that will be our \"panel data points\", so each data point is not a row like in traditional ML, but actually rows and columns.\n",
        "\n",
        "![](https://drive.google.com/uc?export=view&id=1OLTvjaBCQLLFOc3B9HjVrEkAD30d0LfY)"
      ]
    },
    {
      "cell_type": "code",
      "metadata": {
        "id": "HRs1R4kIe1zR"
      },
      "source": [
        "Xr = []\n",
        "X_date = []\n",
        "Yr =[] # next day summary \n",
        "\n",
        "# our Y variable is the WEATHER SUMMARY of the next day. \n",
        "# So we will try to predict that Y variable with panel data from the current day \n",
        "\n",
        "for date in df1.DATE.drop_duplicates():\n",
        "  # X MATRIX \n",
        "  single_day = df1[df1.DATE == date] #our data point\n",
        "  pivot_table = single_day.pivot_table( index= 'HOUR' ,values =feats, aggfunc='mean' ) # this line of code simplifies the program a lot!\n",
        "  pivot_table = pivot_table[feats].values\n",
        "\n",
        "  if pivot_table.shape == (24,33):\n",
        "    # Y TARGET\n",
        "    if len(df1.loc[df1.DATE == date + timedelta( days = 1), 'SUMMARY'].to_list()) >0 : \n",
        "      Xr.append(pivot_table)\n",
        "      X_date.append(date)\n",
        "      y_date = df1.loc[df1.DATE == date + timedelta( days = 1), 'SUMMARY'].to_list()[0]\n",
        "      Yr.append(y_date)\n",
        "  else:\n",
        "    pass # we only want to append days which we have complete data to avoid errors in the CNN later"
      ],
      "execution_count": null,
      "outputs": []
    },
    {
      "cell_type": "markdown",
      "metadata": {
        "id": "0Pk6N2PZdfVp"
      },
      "source": [
        "### Data Augmmentation\n",
        "\n",
        "In Deep Learning, it is very important to have large datasets. So we perform some data augmentation to have more rows of examples. The objective is to take the dataset to a size of 100K rows (which is actually still considered a small sample for a network to work). We achieve these my randomly selecting rows from the matrix and appending them to the end of the list (we do this 100K times).\n",
        "\n",
        "This works in this specific use case because we can assume that if we were to record an additional day of summer, for example, it would have very similar weather than a summer day of any other year. So it is \"allowed\" that we duplicate the data this way. For other use cases this could not be the case (i.e. churn modelling)"
      ]
    },
    {
      "cell_type": "code",
      "metadata": {
        "id": "6XfUDPdn2W6v",
        "colab": {
          "base_uri": "https://localhost:8080/"
        },
        "outputId": "80cce695-50cd-47f0-a103-f50a5f7dbad1"
      },
      "source": [
        "\n",
        "for t in range(100000 - len(Xr)):\n",
        "  i = random.randint(1, len(Xr))-1\n",
        "  Xr.append(Xr[i])\n",
        "  Yr.append(Yr[i])\n",
        "  X_date.append(X_date[i])\n",
        "\n",
        "print(len(Xr)) # we can see the X vector now has 100K rows!"
      ],
      "execution_count": null,
      "outputs": [
        {
          "output_type": "stream",
          "name": "stdout",
          "text": [
            "100000\n"
          ]
        }
      ]
    },
    {
      "cell_type": "code",
      "metadata": {
        "id": "bSKuMe4I7rL9"
      },
      "source": [
        "from sklearn.preprocessing import Normalizer,StandardScaler, MinMaxScaler\n",
        "import seaborn as sns\n",
        "import matplotlib.pyplot as plt\n",
        "from sklearn.preprocessing import LabelEncoder\n",
        "\n",
        "le = LabelEncoder(  )\n",
        "Y = le.fit_transform(Yr)\n",
        "\n"
      ],
      "execution_count": null,
      "outputs": []
    },
    {
      "cell_type": "markdown",
      "metadata": {
        "id": "RqSSDOKAflMg"
      },
      "source": [
        "### Panel Datapoint Visualization\n",
        "\n",
        "Since the CNN will process a bidimensional array, we can imagine that array as an image, where each value of the matrix is a pixel of the image. This helps to link the CNN to their more common application which is computer vision. In this use case specifically, we are processing structured data (not images) but just for the sake of materializing the preprocessing, lets plot it to see how it looks\n"
      ]
    },
    {
      "cell_type": "code",
      "metadata": {
        "id": "ZcqxE8YecILn",
        "colab": {
          "base_uri": "https://localhost:8080/",
          "height": 621
        },
        "outputId": "7b71c60c-4738-46f0-dc1c-fbb0fdab0aa5"
      },
      "source": [
        "i = random.randint(1,len(Xr))\n",
        "fig, ax = plt.subplots(figsize=(18,6)) \n",
        "\n",
        "month = str(X_date[1].month%12 // 3 + 1)\n",
        "\n",
        "pix = Xr[i]\n",
        "pix_norm= np.divide(  pix, pix.mean(axis=0)+0.0001) # normalize for the picture to look good, but not necessary for the CNN\n",
        "\n",
        "sns.heatmap( pix_norm, linewidths=.05, ax=ax,\n",
        "           xticklabels = feats,\n",
        "            ).set_title(str(X_date[i]) + ' Month: '   + month )\n",
        "\n",
        "plt.show()\n"
      ],
      "execution_count": null,
      "outputs": [
        {
          "output_type": "display_data",
          "data": {
            "image/png": "[encoded data removed]",
            "text/plain": [
              "<Figure size 1296x432 with 2 Axes>"
            ]
          },
          "metadata": {
            "needs_background": "light"
          }
        }
      ]
    },
    {
      "cell_type": "markdown",
      "metadata": {
        "id": "1lICVGVLfnge"
      },
      "source": [
        "## Modelling"
      ]
    },
    {
      "cell_type": "code",
      "metadata": {
        "id": "O1d_fjitdzDD"
      },
      "source": [
        "import tensorflow as tf\n",
        "from tensorflow import keras\n",
        "from tensorflow.keras import layers\n",
        "from sklearn.model_selection import train_test_split\n",
        "from sklearn.metrics import accuracy_score, confusion_matrix"
      ],
      "execution_count": null,
      "outputs": []
    },
    {
      "cell_type": "code",
      "metadata": {
        "id": "GAdcbCUdxrwF",
        "colab": {
          "base_uri": "https://localhost:8080/"
        },
        "outputId": "ab3d07f9-d01a-4130-e3bd-38554621b958"
      },
      "source": [
        "# we make sure we have the GPU turned on, which makes the training EXPONENTIALLY FASTER (2 minutes vs 30 minutes non-GPU)\n",
        "\n",
        "print(\"Num GPUs Available: \", len(tf.config.experimental.list_physical_devices('GPU')))\n",
        "device_name = tf.test.gpu_device_name()\n",
        "if device_name != '/device:GPU:0':\n",
        "  raise SystemError('GPU device not found')\n",
        "print('Found GPU at: {}'.format(device_name)) "
      ],
      "execution_count": null,
      "outputs": [
        {
          "output_type": "stream",
          "name": "stdout",
          "text": [
            "Num GPUs Available:  1\n",
            "Found GPU at: /device:GPU:0\n"
          ]
        }
      ]
    },
    {
      "cell_type": "code",
      "metadata": {
        "id": "Vo9b-oABdzBk",
        "colab": {
          "base_uri": "https://localhost:8080/"
        },
        "outputId": "0a83859e-5330-4025-bbe4-68b8a7b08fc8"
      },
      "source": [
        "X = np.array(Xr)\n",
        "Y = np.array(Y)\n",
        "print(len(X), len(Y))\n",
        "X_train, X_test, y_train, y_test = train_test_split( X, Y, test_size=0.1, random_state=42)"
      ],
      "execution_count": null,
      "outputs": [
        {
          "output_type": "stream",
          "name": "stdout",
          "text": [
            "100000 100000\n"
          ]
        }
      ]
    },
    {
      "cell_type": "markdown",
      "metadata": {
        "id": "q_jMmUHphzUn"
      },
      "source": [
        "### WARUT-NET. Simple Convolutional 2D Network\n",
        "\n",
        "2 conv layers with Batch Norm and ReLU activations. Max pool Layers.\n",
        "Finally a flatten curve and a Fully Connected layer with 6 ouput neurons for 6-class prediction. No dropout because it worsened the results. The network generalizes well on testing data even without dropout layers\n",
        "\n",
        "![](https://drive.google.com/uc?export=view&id=193FxqI_G9-EIgxZoipfUtWVXmE7-4lfP)\n",
        "\n",
        "\n",
        "\n"
      ]
    },
    {
      "cell_type": "code",
      "metadata": {
        "id": "Un4gsNP_ZdUy"
      },
      "source": [
        "inputs = keras.Input(shape=(24,33,1)) # days in the index and features in the rows\n",
        "\n",
        "x = layers.Conv2D( filters=64, kernel_size=(2,2), strides=1 , \n",
        "                    name = 'conv1')(inputs)\n",
        "x = layers.BatchNormalization()(x) \n",
        "x = layers.ReLU()(x)\n",
        "\n",
        "x = layers.MaxPool2D(pool_size=(2,2), strides=1, name='max1')(x)\n",
        "\n",
        "x = layers.Conv2D(filters=128, kernel_size=(2,2), strides=2, \n",
        "                    name = 'conv2', padding = 'same' )(x)\n",
        "x = layers.BatchNormalization()(x)\n",
        "x = layers.ReLU()(x)\n",
        "\n",
        "x = layers.MaxPool2D(pool_size=(2,2), strides=1, name='max2')(x)\n",
        "\n",
        "x = layers.Flatten()(x)\n",
        "\n",
        "outputs = layers.Dense(6,activation=tf.nn.softmax, name = 'soft2')(x)\n",
        "\n",
        "model = keras.Model(inputs=inputs, outputs=outputs, name='weather')\n",
        "\n",
        "# Train with Adam optimizer (best optimization method currently)\n",
        "model.compile(loss=keras.losses.SparseCategoricalCrossentropy(),\n",
        "              optimizer=keras.optimizers.Adam(learning_rate=0.001),\n",
        "              metrics=['accuracy'])\n",
        "\n",
        "# We tested a lot with different kernel sizes, strides, number of filters, etc\n",
        "# but the real difference was when we augmented data. This has way more impact \n",
        "# than any architecture adjustment we could make\n",
        "\n"
      ],
      "execution_count": null,
      "outputs": []
    },
    {
      "cell_type": "code",
      "metadata": {
        "id": "zhVPZqlEjb5C",
        "colab": {
          "base_uri": "https://localhost:8080/"
        },
        "outputId": "402b5235-be1e-418d-b13c-96d83173bd2a"
      },
      "source": [
        "print(model.summary())"
      ],
      "execution_count": null,
      "outputs": [
        {
          "output_type": "stream",
          "name": "stdout",
          "text": [
            "Model: \"weather\"\n",
            "_________________________________________________________________\n",
            " Layer (type)                Output Shape              Param #   \n",
            "=================================================================\n",
            " input_3 (InputLayer)        [(None, 24, 33, 1)]       0         \n",
            "                                                                 \n",
            " conv1 (Conv2D)              (None, 23, 32, 64)        320       \n",
            "                                                                 \n",
            " batch_normalization_4 (Batc  (None, 23, 32, 64)       256       \n",
            " hNormalization)                                                 \n",
            "                                                                 \n",
            " re_lu_4 (ReLU)              (None, 23, 32, 64)        0         \n",
            "                                                                 \n",
            " max1 (MaxPooling2D)         (None, 22, 31, 64)        0         \n",
            "                                                                 \n",
            " conv2 (Conv2D)              (None, 11, 16, 128)       32896     \n",
            "                                                                 \n",
            " batch_normalization_5 (Batc  (None, 11, 16, 128)      512       \n",
            " hNormalization)                                                 \n",
            "                                                                 \n",
            " re_lu_5 (ReLU)              (None, 11, 16, 128)       0         \n",
            "                                                                 \n",
            " max2 (MaxPooling2D)         (None, 10, 15, 128)       0         \n",
            "                                                                 \n",
            " flatten_2 (Flatten)         (None, 19200)             0         \n",
            "                                                                 \n",
            " soft2 (Dense)               (None, 6)                 115206    \n",
            "                                                                 \n",
            "=================================================================\n",
            "Total params: 149,190\n",
            "Trainable params: 148,806\n",
            "Non-trainable params: 384\n",
            "_________________________________________________________________\n",
            "None\n"
          ]
        }
      ]
    },
    {
      "cell_type": "code",
      "metadata": {
        "id": "rnM7gyDMiGEn",
        "colab": {
          "base_uri": "https://localhost:8080/"
        },
        "outputId": "f76c1dcc-c9a3-4389-f1a9-b5ab65029134"
      },
      "source": [
        "history = model.fit(X_train, y_train, \n",
        "                    batch_size = 500,    \n",
        "                    epochs=8, verbose= 1 ) \n",
        "\n",
        "# network will go through dataset 8 times, so 100,000*8 epochs = 800,000 data points to train on\n",
        "# network adjusts weights according to errors every 500 data points\n",
        "# training this in a non-gpu machine would take at least 30 minutes! Google Collab <3"
      ],
      "execution_count": null,
      "outputs": [
        {
          "output_type": "stream",
          "name": "stdout",
          "text": [
            "Epoch 1/8\n",
            "180/180 [==============================] - 13s 67ms/step - loss: 1.2374 - accuracy: 0.5768\n",
            "Epoch 2/8\n",
            "180/180 [==============================] - 12s 66ms/step - loss: 0.7036 - accuracy: 0.7236\n",
            "Epoch 3/8\n",
            "180/180 [==============================] - 12s 67ms/step - loss: 0.5658 - accuracy: 0.7835\n",
            "Epoch 4/8\n",
            "180/180 [==============================] - 12s 67ms/step - loss: 0.4754 - accuracy: 0.8194\n",
            "Epoch 5/8\n",
            "180/180 [==============================] - 12s 67ms/step - loss: 0.3762 - accuracy: 0.8645\n",
            "Epoch 6/8\n",
            "180/180 [==============================] - 12s 67ms/step - loss: 0.3164 - accuracy: 0.8890\n",
            "Epoch 7/8\n",
            "180/180 [==============================] - 12s 67ms/step - loss: 0.2472 - accuracy: 0.9225\n",
            "Epoch 8/8\n",
            "180/180 [==============================] - 12s 67ms/step - loss: 0.1964 - accuracy: 0.9441\n"
          ]
        }
      ]
    },
    {
      "cell_type": "code",
      "metadata": {
        "id": "zxYKlRE2s9Q6",
        "colab": {
          "base_uri": "https://localhost:8080/"
        },
        "outputId": "23f5f2e1-6281-4624-b395-1eebdce9e1db"
      },
      "source": [
        "y_prob = model.predict(X_test)\n",
        "y_pred = y_prob.argmax(axis=-1)\n",
        "\n",
        "print(accuracy_score(y_test,y_pred))\n",
        "\n",
        "\n",
        "# train accuracy and test accuracy is similar ==> No overfitting! :-)"
      ],
      "execution_count": null,
      "outputs": [
        {
          "output_type": "stream",
          "name": "stdout",
          "text": [
            "0.9463\n"
          ]
        }
      ]
    },
    {
      "cell_type": "code",
      "metadata": {
        "id": "dVu-uMiK7E7d",
        "colab": {
          "base_uri": "https://localhost:8080/",
          "height": 392
        },
        "outputId": "0005e11d-bd1c-4257-a9ff-6c436a9b31a5"
      },
      "source": [
        "# save results into dataset for further analysis\n",
        "results = pd.DataFrame( data = [y_test,y_pred]).T\n",
        "mapping = dict(zip(le.classes_, range(len(le.classes_))))\n",
        "acc = accuracy_score(y_test,y_pred)\n",
        "\n",
        "fig, ax = plt.subplots(figsize=(18,6)) \n",
        "\n",
        "sns.heatmap(confusion_matrix(y_test,y_pred, normalize='true'),\n",
        "            robust=True,\n",
        "            cmap = sns.cm.rocket_r,\n",
        "            xticklabels = list(mapping.keys()) , \n",
        "            yticklabels = list(mapping.keys()),\n",
        "            annot= confusion_matrix(y_test,y_pred), fmt='g').set_title(f'Confusion Matrix of Model with {str(acc)[:4]} accuracy',  fontsize=16)\n",
        "\n",
        "plt.show()\n"
      ],
      "execution_count": null,
      "outputs": [
        {
          "output_type": "display_data",
          "data": {
            "image/png": "[encoded data removed]",
            "text/plain": [
              "<Figure size 1296x432 with 2 Axes>"
            ]
          },
          "metadata": {
            "needs_background": "light"
          }
        }
      ]
    },
    {
      "cell_type": "code",
      "metadata": {
        "id": "SxdHH_EgmYMI"
      },
      "source": [
        ""
      ],
      "execution_count": null,
      "outputs": []
    }
  ]
}